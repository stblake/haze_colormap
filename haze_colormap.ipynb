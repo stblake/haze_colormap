{
 "cells": [
  {
   "cell_type": "markdown",
   "id": "da55527c-177e-425f-92c2-3b72673e00e3",
   "metadata": {},
   "source": [
    "# 'Haze' Colour Palette"
   ]
  },
  {
   "cell_type": "markdown",
   "id": "ae46084b-f384-4642-b926-985082db3f2a",
   "metadata": {},
   "source": [
    "Sam Blake, 2 July, 2025"
   ]
  },
  {
   "cell_type": "markdown",
   "id": "9315c0f3-a0b8-49a3-85cd-ac075dac3538",
   "metadata": {},
   "source": [
    "## `'haze'`:  White $\\rightarrow$ Pink $\\rightarrow$ Blue $\\rightarrow$ Green $\\rightarrow$ Yellow $\\rightarrow$ Orange $\\rightarrow$ Red"
   ]
  },
  {
   "cell_type": "code",
   "execution_count": 1,
   "id": "efc8257b-90eb-42fa-acbd-56dc16a3d398",
   "metadata": {},
   "outputs": [
    {
     "data": {
      "image/png": "[encoded data removed]",
      "text/plain": [
       "<Figure size 1400x50 with 1 Axes>"
      ]
     },
     "metadata": {},
     "output_type": "display_data"
    }
   ],
   "source": [
    "import numpy as np\n",
    "import matplotlib.pyplot as plt\n",
    "from matplotlib.colors import LinearSegmentedColormap\n",
    "\n",
    "# Define colour transitions.\n",
    "colours = [\n",
    "(1.0, 1.0, 1.0), # White\n",
    "(0.954, 0.752, 0.958), # Pink\n",
    "(0.316, 0.713, 0.938), # Blue\n",
    "(0.260, 0.818, 0.484), # Green\n",
    "(0.944, 0.955, 0.277), # Yellow\n",
    "(0.991, 0.544, 0.051), # Orange\n",
    "(0.914, 0.000, 0.097)  # Red\n",
    "]\n",
    "\n",
    "# Linear positioning of colours. \n",
    "positions = [0., 0.158, 0.438, 0.543, 0.657, 0.845, 1.]\n",
    "\n",
    "# Create the colormap.\n",
    "haze = LinearSegmentedColormap.from_list(\n",
    "\"haze\",\n",
    "list(zip(positions, colours))\n",
    ")\n",
    "\n",
    "# Test the colormap.\n",
    "gradient = np.linspace(0, 1, 256).reshape(1, -1)\n",
    "gradient = np.vstack((gradient, gradient))\n",
    "\n",
    "plt.figure(figsize=(14, 0.5))\n",
    "plt.imshow(gradient, aspect='auto', cmap=haze)\n",
    "plt.axis('off')\n",
    "plt.title(\"'haze'\")\n",
    "plt.show()"
   ]
  },
  {
   "cell_type": "code",
   "execution_count": null,
   "id": "72660347-cdf4-4532-83ed-5aadda925ad6",
   "metadata": {},
   "outputs": [],
   "source": []
  }
 ],
 "metadata": {
  "kernelspec": {
   "display_name": "Python 3 (ipykernel)",
   "language": "python",
   "name": "python3"
  },
  "language_info": {
   "codemirror_mode": {
    "name": "ipython",
    "version": 3
   },
   "file_extension": ".py",
   "mimetype": "text/x-python",
   "name": "python",
   "nbconvert_exporter": "python",
   "pygments_lexer": "ipython3",
   "version": "3.9.16"
  }
 },
 "nbformat": 4,
 "nbformat_minor": 5
}
